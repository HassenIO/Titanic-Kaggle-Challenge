{
 "cells": [
  {
   "cell_type": "markdown",
   "metadata": {},
   "source": [
    "# 04. kNN Classification\n",
    "***\n",
    "\n",
    "In the previous chapter, we tried to predict survival of passengers using a Logistic Regression learning model. In this chapter we are going to build a kNN classification model."
   ]
  },
  {
   "cell_type": "code",
   "execution_count": 148,
   "metadata": {
    "collapsed": true
   },
   "outputs": [],
   "source": [
    "%matplotlib inline\n",
    "\n",
    "import numpy as np\n",
    "import pandas as pd\n",
    "import matplotlib.pyplot as plt\n",
    "\n",
    "import seaborn as sns\n",
    "sns.set_style('whitegrid')\n",
    "sns.set_context('poster')\n",
    "\n",
    "from matplotlib import rcParams"
   ]
  },
  {
   "cell_type": "code",
   "execution_count": 195,
   "metadata": {
    "collapsed": true
   },
   "outputs": [],
   "source": [
    "from sklearn.cross_validation import train_test_split, KFold\n",
    "from sklearn.metrics import confusion_matrix, f1_score\n",
    "from sklearn.neighbors import KNeighborsClassifier"
   ]
  },
  {
   "cell_type": "markdown",
   "metadata": {},
   "source": [
    "***\n",
    "## Load and normalize the data"
   ]
  },
  {
   "cell_type": "code",
   "execution_count": 178,
   "metadata": {
    "collapsed": false
   },
   "outputs": [
    {
     "data": {
      "text/html": [
       "<div>\n",
       "<table border=\"1\" class=\"dataframe\">\n",
       "  <thead>\n",
       "    <tr style=\"text-align: right;\">\n",
       "      <th></th>\n",
       "      <th>SibSp</th>\n",
       "      <th>Parch</th>\n",
       "      <th>Fare</th>\n",
       "      <th>Gender</th>\n",
       "      <th>Boarding_C</th>\n",
       "      <th>Boarding_Q</th>\n",
       "      <th>Boarding_S</th>\n",
       "      <th>Age</th>\n",
       "      <th>Pclass_1</th>\n",
       "      <th>Pclass_2</th>\n",
       "      <th>Pclass_3</th>\n",
       "      <th>Survived</th>\n",
       "    </tr>\n",
       "  </thead>\n",
       "  <tbody>\n",
       "    <tr>\n",
       "      <th>0</th>\n",
       "      <td>0</td>\n",
       "      <td>0</td>\n",
       "      <td>13.0000</td>\n",
       "      <td>0</td>\n",
       "      <td>0</td>\n",
       "      <td>0</td>\n",
       "      <td>1</td>\n",
       "      <td>24.000000</td>\n",
       "      <td>0</td>\n",
       "      <td>1</td>\n",
       "      <td>0</td>\n",
       "      <td>0</td>\n",
       "    </tr>\n",
       "    <tr>\n",
       "      <th>1</th>\n",
       "      <td>1</td>\n",
       "      <td>0</td>\n",
       "      <td>16.1000</td>\n",
       "      <td>0</td>\n",
       "      <td>0</td>\n",
       "      <td>0</td>\n",
       "      <td>1</td>\n",
       "      <td>21.750000</td>\n",
       "      <td>0</td>\n",
       "      <td>0</td>\n",
       "      <td>1</td>\n",
       "      <td>1</td>\n",
       "    </tr>\n",
       "    <tr>\n",
       "      <th>2</th>\n",
       "      <td>0</td>\n",
       "      <td>0</td>\n",
       "      <td>30.6958</td>\n",
       "      <td>1</td>\n",
       "      <td>1</td>\n",
       "      <td>0</td>\n",
       "      <td>0</td>\n",
       "      <td>56.000000</td>\n",
       "      <td>1</td>\n",
       "      <td>0</td>\n",
       "      <td>0</td>\n",
       "      <td>0</td>\n",
       "    </tr>\n",
       "    <tr>\n",
       "      <th>3</th>\n",
       "      <td>1</td>\n",
       "      <td>1</td>\n",
       "      <td>24.1500</td>\n",
       "      <td>1</td>\n",
       "      <td>0</td>\n",
       "      <td>0</td>\n",
       "      <td>1</td>\n",
       "      <td>36.000000</td>\n",
       "      <td>0</td>\n",
       "      <td>0</td>\n",
       "      <td>1</td>\n",
       "      <td>0</td>\n",
       "    </tr>\n",
       "    <tr>\n",
       "      <th>4</th>\n",
       "      <td>0</td>\n",
       "      <td>0</td>\n",
       "      <td>7.2292</td>\n",
       "      <td>1</td>\n",
       "      <td>1</td>\n",
       "      <td>0</td>\n",
       "      <td>0</td>\n",
       "      <td>26.507589</td>\n",
       "      <td>0</td>\n",
       "      <td>0</td>\n",
       "      <td>1</td>\n",
       "      <td>0</td>\n",
       "    </tr>\n",
       "  </tbody>\n",
       "</table>\n",
       "</div>"
      ],
      "text/plain": [
       "   SibSp  Parch     Fare  Gender  Boarding_C  Boarding_Q  Boarding_S  \\\n",
       "0      0      0  13.0000       0           0           0           1   \n",
       "1      1      0  16.1000       0           0           0           1   \n",
       "2      0      0  30.6958       1           1           0           0   \n",
       "3      1      1  24.1500       1           0           0           1   \n",
       "4      0      0   7.2292       1           1           0           0   \n",
       "\n",
       "         Age  Pclass_1  Pclass_2  Pclass_3  Survived  \n",
       "0  24.000000         0         1         0         0  \n",
       "1  21.750000         0         0         1         1  \n",
       "2  56.000000         1         0         0         0  \n",
       "3  36.000000         0         0         1         0  \n",
       "4  26.507589         0         0         1         0  "
      ]
     },
     "execution_count": 178,
     "metadata": {},
     "output_type": "execute_result"
    }
   ],
   "source": [
    "data_train = pd.read_csv('./data/training_dataset.csv')\n",
    "data_train.head()"
   ]
  },
  {
   "cell_type": "code",
   "execution_count": 179,
   "metadata": {
    "collapsed": false
   },
   "outputs": [
    {
     "name": "stdout",
     "output_type": "stream",
     "text": [
      "<class 'pandas.core.frame.DataFrame'>\n",
      "RangeIndex: 711 entries, 0 to 710\n",
      "Data columns (total 12 columns):\n",
      "SibSp         711 non-null int64\n",
      "Parch         711 non-null int64\n",
      "Fare          711 non-null float64\n",
      "Gender        711 non-null int64\n",
      "Boarding_C    711 non-null int64\n",
      "Boarding_Q    711 non-null int64\n",
      "Boarding_S    711 non-null int64\n",
      "Age           711 non-null float64\n",
      "Pclass_1      711 non-null int64\n",
      "Pclass_2      711 non-null int64\n",
      "Pclass_3      711 non-null int64\n",
      "Survived      711 non-null int64\n",
      "dtypes: float64(2), int64(10)\n",
      "memory usage: 66.7 KB\n"
     ]
    }
   ],
   "source": [
    "data_train.info()"
   ]
  },
  {
   "cell_type": "markdown",
   "metadata": {},
   "source": [
    "Because we are going to use kNN, we need to normalize the data so distances between samples can be calculated with better accuracy. Most of the variables are dummy variables with two possible values: $\\{0, 1\\}$. For this reason, we are going to convert the two floating variables `Age` and `Fare` into two floating variables in the range $[0, 1]$. Here is the transformation:\n",
    "\n",
    "$$\n",
    "x_{new} = \\frac{x_{old} - min(x)}{max(x) - min(x)}\n",
    "$$"
   ]
  },
  {
   "cell_type": "code",
   "execution_count": 180,
   "metadata": {
    "collapsed": false
   },
   "outputs": [],
   "source": [
    "age_transform = (np.min(data_train['Age']), np.max(data_train['Age']))\n",
    "fare_transform = (np.min(data_train['Fare']), np.max(data_train['Fare']))"
   ]
  },
  {
   "cell_type": "code",
   "execution_count": 181,
   "metadata": {
    "collapsed": true
   },
   "outputs": [],
   "source": [
    "new_ages = (data_train['Age'] - age_transform[0]) / float(age_transform[1] - age_transform[0])\n",
    "new_fares = (data_train['Fare'] - fare_transform[0]) / float(fare_transform[1] - fare_transform[0])\n",
    "\n",
    "data_train['Age'] = new_ages\n",
    "data_train['Fare'] = new_fares"
   ]
  },
  {
   "cell_type": "code",
   "execution_count": 182,
   "metadata": {
    "collapsed": true
   },
   "outputs": [],
   "source": [
    "X = data_train.drop('Survived', axis = 1)\n",
    "Y = data_train['Survived']"
   ]
  },
  {
   "cell_type": "code",
   "execution_count": 184,
   "metadata": {
    "collapsed": false
   },
   "outputs": [
    {
     "data": {
      "text/html": [
       "<div>\n",
       "<table border=\"1\" class=\"dataframe\">\n",
       "  <thead>\n",
       "    <tr style=\"text-align: right;\">\n",
       "      <th></th>\n",
       "      <th>SibSp</th>\n",
       "      <th>Parch</th>\n",
       "      <th>Fare</th>\n",
       "      <th>Gender</th>\n",
       "      <th>Boarding_C</th>\n",
       "      <th>Boarding_Q</th>\n",
       "      <th>Boarding_S</th>\n",
       "      <th>Age</th>\n",
       "      <th>Pclass_1</th>\n",
       "      <th>Pclass_2</th>\n",
       "      <th>Pclass_3</th>\n",
       "    </tr>\n",
       "  </thead>\n",
       "  <tbody>\n",
       "    <tr>\n",
       "      <th>0</th>\n",
       "      <td>0</td>\n",
       "      <td>0</td>\n",
       "      <td>0.025374</td>\n",
       "      <td>0</td>\n",
       "      <td>0</td>\n",
       "      <td>0</td>\n",
       "      <td>1</td>\n",
       "      <td>0.296306</td>\n",
       "      <td>0</td>\n",
       "      <td>1</td>\n",
       "      <td>0</td>\n",
       "    </tr>\n",
       "    <tr>\n",
       "      <th>1</th>\n",
       "      <td>1</td>\n",
       "      <td>0</td>\n",
       "      <td>0.031425</td>\n",
       "      <td>0</td>\n",
       "      <td>0</td>\n",
       "      <td>0</td>\n",
       "      <td>1</td>\n",
       "      <td>0.268032</td>\n",
       "      <td>0</td>\n",
       "      <td>0</td>\n",
       "      <td>1</td>\n",
       "    </tr>\n",
       "    <tr>\n",
       "      <th>2</th>\n",
       "      <td>0</td>\n",
       "      <td>0</td>\n",
       "      <td>0.059914</td>\n",
       "      <td>1</td>\n",
       "      <td>1</td>\n",
       "      <td>0</td>\n",
       "      <td>0</td>\n",
       "      <td>0.698417</td>\n",
       "      <td>1</td>\n",
       "      <td>0</td>\n",
       "      <td>0</td>\n",
       "    </tr>\n",
       "  </tbody>\n",
       "</table>\n",
       "</div>"
      ],
      "text/plain": [
       "   SibSp  Parch      Fare  Gender  Boarding_C  Boarding_Q  Boarding_S  \\\n",
       "0      0      0  0.025374       0           0           0           1   \n",
       "1      1      0  0.031425       0           0           0           1   \n",
       "2      0      0  0.059914       1           1           0           0   \n",
       "\n",
       "        Age  Pclass_1  Pclass_2  Pclass_3  \n",
       "0  0.296306         0         1         0  \n",
       "1  0.268032         0         0         1  \n",
       "2  0.698417         1         0         0  "
      ]
     },
     "execution_count": 184,
     "metadata": {},
     "output_type": "execute_result"
    }
   ],
   "source": [
    "X.head(3)"
   ]
  },
  {
   "cell_type": "code",
   "execution_count": 185,
   "metadata": {
    "collapsed": false
   },
   "outputs": [
    {
     "data": {
      "text/plain": [
       "0    0\n",
       "1    1\n",
       "2    0\n",
       "Name: Survived, dtype: int64"
      ]
     },
     "execution_count": 185,
     "metadata": {},
     "output_type": "execute_result"
    }
   ],
   "source": [
    "Y.head(3)"
   ]
  },
  {
   "cell_type": "markdown",
   "metadata": {},
   "source": [
    "We will perform the same transformations with the testing dataset, using the same transformation parameters in order to not pollute the test dataset."
   ]
  },
  {
   "cell_type": "code",
   "execution_count": 183,
   "metadata": {
    "collapsed": false
   },
   "outputs": [],
   "source": [
    "data_test = pd.read_csv('./data/testing_dataset.csv')\n",
    "\n",
    "new_ages = (data_test['Age'] - age_transform[0]) / float(age_transform[1] - age_transform[0])\n",
    "new_fares = (data_test['Fare'] - fare_transform[0]) / float(fare_transform[1] - fare_transform[0])\n",
    "\n",
    "data_test['Age'] = new_ages\n",
    "data_test['Fare'] = new_fares\n",
    "\n",
    "X_test = data_test.drop('Survived', axis = 1)\n",
    "Y_test = data_test['Survived']"
   ]
  },
  {
   "cell_type": "code",
   "execution_count": 186,
   "metadata": {
    "collapsed": false
   },
   "outputs": [
    {
     "data": {
      "text/html": [
       "<div>\n",
       "<table border=\"1\" class=\"dataframe\">\n",
       "  <thead>\n",
       "    <tr style=\"text-align: right;\">\n",
       "      <th></th>\n",
       "      <th>SibSp</th>\n",
       "      <th>Parch</th>\n",
       "      <th>Fare</th>\n",
       "      <th>Gender</th>\n",
       "      <th>Boarding_C</th>\n",
       "      <th>Boarding_Q</th>\n",
       "      <th>Boarding_S</th>\n",
       "      <th>Age</th>\n",
       "      <th>Pclass_1</th>\n",
       "      <th>Pclass_2</th>\n",
       "      <th>Pclass_3</th>\n",
       "    </tr>\n",
       "  </thead>\n",
       "  <tbody>\n",
       "    <tr>\n",
       "      <th>0</th>\n",
       "      <td>0</td>\n",
       "      <td>0</td>\n",
       "      <td>0.018543</td>\n",
       "      <td>1</td>\n",
       "      <td>0</td>\n",
       "      <td>0</td>\n",
       "      <td>1</td>\n",
       "      <td>0.296306</td>\n",
       "      <td>0</td>\n",
       "      <td>0</td>\n",
       "      <td>1</td>\n",
       "    </tr>\n",
       "    <tr>\n",
       "      <th>1</th>\n",
       "      <td>0</td>\n",
       "      <td>0</td>\n",
       "      <td>0.059532</td>\n",
       "      <td>1</td>\n",
       "      <td>0</td>\n",
       "      <td>0</td>\n",
       "      <td>1</td>\n",
       "      <td>0.513463</td>\n",
       "      <td>1</td>\n",
       "      <td>0</td>\n",
       "      <td>0</td>\n",
       "    </tr>\n",
       "    <tr>\n",
       "      <th>2</th>\n",
       "      <td>0</td>\n",
       "      <td>2</td>\n",
       "      <td>0.051237</td>\n",
       "      <td>0</td>\n",
       "      <td>0</td>\n",
       "      <td>0</td>\n",
       "      <td>1</td>\n",
       "      <td>0.095250</td>\n",
       "      <td>0</td>\n",
       "      <td>1</td>\n",
       "      <td>0</td>\n",
       "    </tr>\n",
       "  </tbody>\n",
       "</table>\n",
       "</div>"
      ],
      "text/plain": [
       "   SibSp  Parch      Fare  Gender  Boarding_C  Boarding_Q  Boarding_S  \\\n",
       "0      0      0  0.018543       1           0           0           1   \n",
       "1      0      0  0.059532       1           0           0           1   \n",
       "2      0      2  0.051237       0           0           0           1   \n",
       "\n",
       "        Age  Pclass_1  Pclass_2  Pclass_3  \n",
       "0  0.296306         0         0         1  \n",
       "1  0.513463         1         0         0  \n",
       "2  0.095250         0         1         0  "
      ]
     },
     "execution_count": 186,
     "metadata": {},
     "output_type": "execute_result"
    }
   ],
   "source": [
    "X_test.head(3)"
   ]
  },
  {
   "cell_type": "code",
   "execution_count": 187,
   "metadata": {
    "collapsed": false
   },
   "outputs": [
    {
     "data": {
      "text/plain": [
       "0    0\n",
       "1    1\n",
       "2    1\n",
       "Name: Survived, dtype: int64"
      ]
     },
     "execution_count": 187,
     "metadata": {},
     "output_type": "execute_result"
    }
   ],
   "source": [
    "Y_test.head(3)"
   ]
  },
  {
   "cell_type": "markdown",
   "metadata": {},
   "source": [
    "***\n",
    "## Plot for curiosity\n",
    "\n",
    "Before jumping into the math and programming, let's get some feeling about the data, in the context of kNN.\n",
    "\n",
    "First, we will draw a scatter plot of the two floating variables to see if there is any separation between the plots:"
   ]
  },
  {
   "cell_type": "code",
   "execution_count": 188,
   "metadata": {
    "collapsed": false
   },
   "outputs": [
    {
     "data": {
      "text/plain": [
       "<matplotlib.text.Text at 0x11a3edb90>"
      ]
     },
     "execution_count": 188,
     "metadata": {},
     "output_type": "execute_result"
    },
    {
     "data": {
      "image/png": "[encoded data removed]",
      "text/plain": [
       "<matplotlib.figure.Figure at 0x11a39ac90>"
      ]
     },
     "metadata": {},
     "output_type": "display_data"
    }
   ],
   "source": [
    "plt.scatter(data_train[data_train['Survived'] == 1]['Fare'], data_train[data_train['Survived'] == 1]['Age'], alpha = 0.3, color = 'g', label = 'Survived')\n",
    "plt.scatter(data_train[data_train['Survived'] == 0]['Fare'], data_train[data_train['Survived'] == 0]['Age'], alpha = 0.3, color = 'r', label = 'Died')\n",
    "plt.xlabel('Normalized Ticket Fare')\n",
    "plt.ylabel('Normalized Passenger Age')\n",
    "plt.legend(loc = 'lower right')\n",
    "plt.title('View of passengers survival depending on the ticket fare and passenger age')"
   ]
  },
  {
   "cell_type": "markdown",
   "metadata": {},
   "source": [
    "It seems that most victims have a ticket fare $< 0.1$. The higher the ticket fare, the more chances you had to survive. But this is not enough to create a clear separation between chances of survival just based on the passenger age and ticket fare."
   ]
  },
  {
   "cell_type": "markdown",
   "metadata": {},
   "source": [
    "***\n",
    "## Building the kNN model\n",
    "\n",
    "In the case of kNN modeling, we need to find the best value of $k$ using cross validation on the training dataset. Then the optimal $k$ will be used to build the learning model. Finally, the model score will be calculated using the testing dataset."
   ]
  },
  {
   "cell_type": "markdown",
   "metadata": {},
   "source": [
    "### Step 1: Search for the optimal $k$ using cross validation"
   ]
  },
  {
   "cell_type": "code",
   "execution_count": 189,
   "metadata": {
    "collapsed": false
   },
   "outputs": [],
   "source": [
    "# Search the best k\n",
    "validation_scores = []\n",
    "training_scores = []\n",
    "k_values = np.arange(1, 41)\n",
    "k_folds = 10\n",
    "Xt_values, Yt_values = X.values, Y.values\n",
    "\n",
    "for k in k_values:\n",
    "    current_training_scores = []\n",
    "    current_validation_scores = []\n",
    "    \n",
    "    for train_indexes, validation_indexes in KFold(len(Xt_values), n_folds = k_folds):\n",
    "        \n",
    "        knc = KNeighborsClassifier(n_neighbors = k, weights = 'distance')\n",
    "        knc.fit(Xt_values[train_indexes], Yt_values[train_indexes])\n",
    "        \n",
    "        current_training_scores.append( knc.score(Xt_values[train_indexes], Yt_values[train_indexes]) )\n",
    "        current_validation_scores.append( knc.score(Xt_values[validation_indexes], Yt_values[validation_indexes]) )\n",
    "    \n",
    "    training_scores.append(current_training_scores)\n",
    "    validation_scores.append(current_validation_scores)\n",
    "\n",
    "training_scores = np.array(training_scores)\n",
    "mean_training_scores = np.mean(training_scores, axis = 1)\n",
    "\n",
    "validation_scores = np.array(validation_scores)\n",
    "mean_validation_scores = np.mean(validation_scores, axis = 1)"
   ]
  },
  {
   "cell_type": "code",
   "execution_count": 190,
   "metadata": {
    "collapsed": false
   },
   "outputs": [
    {
     "data": {
      "text/plain": [
       "<matplotlib.text.Text at 0x10d214290>"
      ]
     },
     "execution_count": 190,
     "metadata": {},
     "output_type": "execute_result"
    },
    {
     "data": {
      "image/png": "[encoded data removed]",
      "text/plain": [
       "<matplotlib.figure.Figure at 0x11a09f110>"
      ]
     },
     "metadata": {},
     "output_type": "display_data"
    }
   ],
   "source": [
    "plt.plot(k_values, mean_training_scores, 'go-', alpha = 0.5, label = 'kNN training score')\n",
    "plt.plot(k_values, mean_validation_scores, 'bo-', alpha = 0.5, label = 'kNN validation score')\n",
    "plt.fill_between(k_values, [np.min(score) for score in validation_scores], [np.max(score) for score in validation_scores], color = 'b', alpha = 0.2)\n",
    "plt.plot(k_values[np.argmax(mean_validation_scores)], np.max(mean_validation_scores), 'ro', label = 'Best validation score')\n",
    "plt.legend(loc = 'lower right')\n",
    "plt.xlabel('$k$')\n",
    "plt.ylabel('Mean score on validation dataset')\n",
    "plt.title('How different values of $k$ influence the model scoring')"
   ]
  },
  {
   "cell_type": "markdown",
   "metadata": {},
   "source": [
    "The previous graphic shows the evolution of the training and validation scores, depending on the values of $k$. The blue dots represent the evolution of the mean validation scores, where the blue area shows the evolution of the validation scores among the folds, for a fixed $k$. The optimal $k$ is choosen to maximize the mean validation score, and is represented as a red dot.\n",
    "\n",
    "As we can see, the training score is very high (no less that 0.97) but the testing score is low below. This means overfitting on the training dataset. This is mainly due to the weights of kNN algorithm (= distance) which increased both the training and validation scores. Choosing the _uniform_ weights will decrease the training scores, but also reduces the validation scores."
   ]
  },
  {
   "cell_type": "code",
   "execution_count": 191,
   "metadata": {
    "collapsed": false
   },
   "outputs": [
    {
     "name": "stdout",
     "output_type": "stream",
     "text": [
      "k = 16 is what provides the highest validation mean score: 0.791882\n"
     ]
    }
   ],
   "source": [
    "# Getting the best value of k and its validation mean score\n",
    "best_k = k_values[np.argmax(mean_validation_scores)]\n",
    "print \"k = %d is what provides the highest validation mean score: %f\" % (best_k, np.max(mean_validation_scores))"
   ]
  },
  {
   "cell_type": "markdown",
   "metadata": {},
   "source": [
    "### Step 2: Build the learning model and score it using the test dataset"
   ]
  },
  {
   "cell_type": "markdown",
   "metadata": {},
   "source": [
    "Now that we know what is the best $k$, let's build the model and calculate its score by getting using the test dataset."
   ]
  },
  {
   "cell_type": "code",
   "execution_count": 192,
   "metadata": {
    "collapsed": false
   },
   "outputs": [
    {
     "name": "stdout",
     "output_type": "stream",
     "text": [
      "Training score: 0.984529\n",
      "Test score: 0.724719\n"
     ]
    }
   ],
   "source": [
    "knc = KNeighborsClassifier(n_neighbors = best_k, weights = 'distance')\n",
    "knc.fit(X, Y)\n",
    "print 'Training score: %f' % knc.score(X, Y)\n",
    "print 'Test score: %f' % knc.score(X_test, Y_test)"
   ]
  },
  {
   "cell_type": "markdown",
   "metadata": {},
   "source": [
    "The kNN classifier doesn't perform better than the previous Logistic Regression classifier with this dataset."
   ]
  },
  {
   "cell_type": "code",
   "execution_count": 194,
   "metadata": {
    "collapsed": false
   },
   "outputs": [
    {
     "data": {
      "text/plain": [
       "array([[77, 32],\n",
       "       [17, 52]])"
      ]
     },
     "execution_count": 194,
     "metadata": {},
     "output_type": "execute_result"
    }
   ],
   "source": [
    "# Calculating the confusion matrix of the model\n",
    "confusion_matrix(Y_test, knc.predict(X_test))"
   ]
  },
  {
   "cell_type": "code",
   "execution_count": 196,
   "metadata": {
    "collapsed": false
   },
   "outputs": [
    {
     "data": {
      "text/plain": [
       "0.6797385620915033"
      ]
     },
     "execution_count": 196,
     "metadata": {},
     "output_type": "execute_result"
    }
   ],
   "source": [
    "# The F1 score\n",
    "f1_score(Y_test, knc.predict(X_test))"
   ]
  },
  {
   "cell_type": "markdown",
   "metadata": {},
   "source": [
    "***\n",
    "## Conclusion\n",
    "\n",
    "Unfortunately, kNN classifier doesn't perform better than Logistic Regression with this dataset. This is because we have a lot of dummy variables and just two floating variables. This makes the dots (labels) to be grouped a lot in 0 and 1 positions of the hyperspace (due to the 0/1 nature of dummy variables), and so, making a voting in the different 0/1 locations provide mostly the same result.\n",
    "\n",
    "One main take away is normalize the variables to have the same values ranges. As we have seen, kNN calculates the distances between a sample and all other training samples, then choose the closest samples in order to make a vote. That's why it is important to have all possible values in the same range.\n",
    "\n",
    "In the next chapter, we are going to use another classification method which is Random Forest."
   ]
  }
 ],
 "metadata": {
  "kernelspec": {
   "display_name": "Python 2",
   "language": "python",
   "name": "python2"
  },
  "language_info": {
   "codemirror_mode": {
    "name": "ipython",
    "version": 2
   },
   "file_extension": ".py",
   "mimetype": "text/x-python",
   "name": "python",
   "nbconvert_exporter": "python",
   "pygments_lexer": "ipython2",
   "version": "2.7.11"
  }
 },
 "nbformat": 4,
 "nbformat_minor": 0
}
