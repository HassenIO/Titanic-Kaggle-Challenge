{
 "cells": [
  {
   "cell_type": "markdown",
   "metadata": {},
   "source": [
    "# 03. Logistic Regression Classification\n",
    "***"
   ]
  },
  {
   "cell_type": "markdown",
   "metadata": {},
   "source": [
    "In this chapter we will use a first learning algorithm which is Logistic Regression. We are not going to recall all the math and logic behind this learning method. We are going to apply it to the training model in order to find the best predictive model, then test our model with the test dataset."
   ]
  },
  {
   "cell_type": "code",
   "execution_count": 504,
   "metadata": {
    "collapsed": true
   },
   "outputs": [],
   "source": [
    "%matplotlib inline\n",
    "\n",
    "import numpy as np\n",
    "import pandas as pd\n",
    "import matplotlib.pyplot as plt\n",
    "\n",
    "import seaborn as sns\n",
    "sns.set_style(\"whitegrid\")\n",
    "sns.set_context(\"poster\")\n",
    "\n",
    "from matplotlib import rcParams"
   ]
  },
  {
   "cell_type": "markdown",
   "metadata": {},
   "source": [
    "***\n",
    "## Loading the data"
   ]
  },
  {
   "cell_type": "code",
   "execution_count": 505,
   "metadata": {
    "collapsed": false
   },
   "outputs": [
    {
     "data": {
      "text/html": [
       "<div>\n",
       "<table border=\"1\" class=\"dataframe\">\n",
       "  <thead>\n",
       "    <tr style=\"text-align: right;\">\n",
       "      <th></th>\n",
       "      <th>Survived</th>\n",
       "      <th>SibSp</th>\n",
       "      <th>Parch</th>\n",
       "      <th>Fare</th>\n",
       "      <th>Gender</th>\n",
       "      <th>Boarding_C</th>\n",
       "      <th>Boarding_Q</th>\n",
       "      <th>Boarding_S</th>\n",
       "      <th>Age</th>\n",
       "      <th>Pclass_1</th>\n",
       "      <th>Pclass_2</th>\n",
       "      <th>Pclass_3</th>\n",
       "    </tr>\n",
       "  </thead>\n",
       "  <tbody>\n",
       "    <tr>\n",
       "      <th>0</th>\n",
       "      <td>0</td>\n",
       "      <td>1</td>\n",
       "      <td>0</td>\n",
       "      <td>7.2500</td>\n",
       "      <td>1</td>\n",
       "      <td>0</td>\n",
       "      <td>0</td>\n",
       "      <td>1</td>\n",
       "      <td>22.0</td>\n",
       "      <td>0</td>\n",
       "      <td>0</td>\n",
       "      <td>1</td>\n",
       "    </tr>\n",
       "    <tr>\n",
       "      <th>1</th>\n",
       "      <td>1</td>\n",
       "      <td>1</td>\n",
       "      <td>0</td>\n",
       "      <td>71.2833</td>\n",
       "      <td>0</td>\n",
       "      <td>1</td>\n",
       "      <td>0</td>\n",
       "      <td>0</td>\n",
       "      <td>38.0</td>\n",
       "      <td>1</td>\n",
       "      <td>0</td>\n",
       "      <td>0</td>\n",
       "    </tr>\n",
       "    <tr>\n",
       "      <th>2</th>\n",
       "      <td>1</td>\n",
       "      <td>0</td>\n",
       "      <td>0</td>\n",
       "      <td>7.9250</td>\n",
       "      <td>0</td>\n",
       "      <td>0</td>\n",
       "      <td>0</td>\n",
       "      <td>1</td>\n",
       "      <td>26.0</td>\n",
       "      <td>0</td>\n",
       "      <td>0</td>\n",
       "      <td>1</td>\n",
       "    </tr>\n",
       "    <tr>\n",
       "      <th>3</th>\n",
       "      <td>1</td>\n",
       "      <td>1</td>\n",
       "      <td>0</td>\n",
       "      <td>53.1000</td>\n",
       "      <td>0</td>\n",
       "      <td>0</td>\n",
       "      <td>0</td>\n",
       "      <td>1</td>\n",
       "      <td>35.0</td>\n",
       "      <td>1</td>\n",
       "      <td>0</td>\n",
       "      <td>0</td>\n",
       "    </tr>\n",
       "    <tr>\n",
       "      <th>4</th>\n",
       "      <td>0</td>\n",
       "      <td>0</td>\n",
       "      <td>0</td>\n",
       "      <td>8.0500</td>\n",
       "      <td>1</td>\n",
       "      <td>0</td>\n",
       "      <td>0</td>\n",
       "      <td>1</td>\n",
       "      <td>35.0</td>\n",
       "      <td>0</td>\n",
       "      <td>0</td>\n",
       "      <td>1</td>\n",
       "    </tr>\n",
       "  </tbody>\n",
       "</table>\n",
       "</div>"
      ],
      "text/plain": [
       "   Survived  SibSp  Parch     Fare  Gender  Boarding_C  Boarding_Q  \\\n",
       "0         0      1      0   7.2500       1           0           0   \n",
       "1         1      1      0  71.2833       0           1           0   \n",
       "2         1      0      0   7.9250       0           0           0   \n",
       "3         1      1      0  53.1000       0           0           0   \n",
       "4         0      0      0   8.0500       1           0           0   \n",
       "\n",
       "   Boarding_S   Age  Pclass_1  Pclass_2  Pclass_3  \n",
       "0           1  22.0         0         0         1  \n",
       "1           0  38.0         1         0         0  \n",
       "2           1  26.0         0         0         1  \n",
       "3           1  35.0         1         0         0  \n",
       "4           1  35.0         0         0         1  "
      ]
     },
     "execution_count": 505,
     "metadata": {},
     "output_type": "execute_result"
    }
   ],
   "source": [
    "data = pd.read_csv('./data/train_clean.csv')\n",
    "data.head()"
   ]
  },
  {
   "cell_type": "code",
   "execution_count": 506,
   "metadata": {
    "collapsed": false
   },
   "outputs": [
    {
     "name": "stdout",
     "output_type": "stream",
     "text": [
      "<class 'pandas.core.frame.DataFrame'>\n",
      "RangeIndex: 889 entries, 0 to 888\n",
      "Data columns (total 12 columns):\n",
      "Survived      889 non-null int64\n",
      "SibSp         889 non-null int64\n",
      "Parch         889 non-null int64\n",
      "Fare          889 non-null float64\n",
      "Gender        889 non-null int64\n",
      "Boarding_C    889 non-null int64\n",
      "Boarding_Q    889 non-null int64\n",
      "Boarding_S    889 non-null int64\n",
      "Age           889 non-null float64\n",
      "Pclass_1      889 non-null int64\n",
      "Pclass_2      889 non-null int64\n",
      "Pclass_3      889 non-null int64\n",
      "dtypes: float64(2), int64(10)\n",
      "memory usage: 83.4 KB\n"
     ]
    }
   ],
   "source": [
    "data.info()"
   ]
  },
  {
   "cell_type": "markdown",
   "metadata": {},
   "source": [
    "***\n",
    "## Logistic Regression on the Whole Dataset"
   ]
  },
  {
   "cell_type": "markdown",
   "metadata": {},
   "source": [
    "In this first use of Logistic Regression using `sklearn`, we are going to use the full dataset to build the model."
   ]
  },
  {
   "cell_type": "code",
   "execution_count": 507,
   "metadata": {
    "collapsed": true
   },
   "outputs": [],
   "source": [
    "# Building X and Y from the whole dataset\n",
    "X = data.drop(['Survived'], axis = 1)\n",
    "Y = data['Survived']"
   ]
  },
  {
   "cell_type": "code",
   "execution_count": 508,
   "metadata": {
    "collapsed": false
   },
   "outputs": [
    {
     "data": {
      "text/plain": [
       "LogisticRegression(C=1.0, class_weight=None, dual=False, fit_intercept=True,\n",
       "          intercept_scaling=1, max_iter=100, multi_class='ovr', n_jobs=1,\n",
       "          penalty='l2', random_state=None, solver='liblinear', tol=0.0001,\n",
       "          verbose=0, warm_start=False)"
      ]
     },
     "execution_count": 508,
     "metadata": {},
     "output_type": "execute_result"
    }
   ],
   "source": [
    "# Building the model\n",
    "from sklearn.linear_model import LogisticRegression\n",
    "\n",
    "model = LogisticRegression()\n",
    "model.fit(X, Y)"
   ]
  },
  {
   "cell_type": "code",
   "execution_count": 509,
   "metadata": {
    "collapsed": true
   },
   "outputs": [],
   "source": [
    "# Making predictions\n",
    "Y_hat = model.predict(X)"
   ]
  },
  {
   "cell_type": "code",
   "execution_count": 510,
   "metadata": {
    "collapsed": false
   },
   "outputs": [
    {
     "name": "stdout",
     "output_type": "stream",
     "text": [
      "[0 1 1 1 0 0 0 0 1 1 1 1 0 0 1 1 0 0 0 1]\n",
      "[0 1 1 1 0 0 0 0 1 1 1 1 0 0 0 1 0 1 0 1]\n"
     ]
    }
   ],
   "source": [
    "print Y_hat[:20] # First 10 predictions...\n",
    "print Y[:20].values # ... compared to real outputs"
   ]
  },
  {
   "cell_type": "markdown",
   "metadata": {},
   "source": [
    "Which seems good. Now the score of the model:"
   ]
  },
  {
   "cell_type": "code",
   "execution_count": 511,
   "metadata": {
    "collapsed": false
   },
   "outputs": [
    {
     "data": {
      "text/plain": [
       "0.813273340832396"
      ]
     },
     "execution_count": 511,
     "metadata": {},
     "output_type": "execute_result"
    }
   ],
   "source": [
    "model.score(X, Y)"
   ]
  },
  {
   "cell_type": "markdown",
   "metadata": {},
   "source": [
    "### Improve the model removing attributes"
   ]
  },
  {
   "cell_type": "code",
   "execution_count": 512,
   "metadata": {
    "collapsed": false
   },
   "outputs": [
    {
     "data": {
      "text/plain": [
       "0.81214848143981999"
      ]
     },
     "execution_count": 512,
     "metadata": {},
     "output_type": "execute_result"
    }
   ],
   "source": [
    "X2 = X.drop('Boarding_S', axis = 1)\n",
    "\n",
    "model2 = LogisticRegression()\n",
    "model2.fit(X2, Y)\n",
    "model2.score(X2, Y)"
   ]
  },
  {
   "cell_type": "markdown",
   "metadata": {},
   "source": [
    "Droping the `Boarding_S` attribute increased the model score compared to using all the attributes."
   ]
  },
  {
   "cell_type": "markdown",
   "metadata": {
    "collapsed": true
   },
   "source": [
    "***\n",
    "## Logistic Regression on the Training dataset"
   ]
  },
  {
   "cell_type": "markdown",
   "metadata": {},
   "source": [
    "Here, we are going to split the dataset into two groups: training and testing datasets. We will use `train_test_split`:"
   ]
  },
  {
   "cell_type": "code",
   "execution_count": 513,
   "metadata": {
    "collapsed": false
   },
   "outputs": [
    {
     "name": "stdout",
     "output_type": "stream",
     "text": [
      "(711, 11)\n",
      "(711,)\n",
      "(178, 11)\n",
      "(178,)\n"
     ]
    }
   ],
   "source": [
    "from sklearn.cross_validation import train_test_split\n",
    "\n",
    "X_train, X_test, Y_train, Y_test = train_test_split(X, Y, train_size = 0.8)\n",
    "\n",
    "print X_train.shape\n",
    "print Y_train.shape\n",
    "print X_test.shape\n",
    "print Y_test.shape"
   ]
  },
  {
   "cell_type": "code",
   "execution_count": 514,
   "metadata": {
    "collapsed": false
   },
   "outputs": [
    {
     "data": {
      "text/plain": [
       "LogisticRegression(C=1.0, class_weight=None, dual=False, fit_intercept=True,\n",
       "          intercept_scaling=1, max_iter=100, multi_class='ovr', n_jobs=1,\n",
       "          penalty='l2', random_state=None, solver='liblinear', tol=0.0001,\n",
       "          verbose=0, warm_start=False)"
      ]
     },
     "execution_count": 514,
     "metadata": {},
     "output_type": "execute_result"
    }
   ],
   "source": [
    "model = LogisticRegression()\n",
    "model.fit(X_train, Y_train)"
   ]
  },
  {
   "cell_type": "code",
   "execution_count": 515,
   "metadata": {
    "collapsed": false
   },
   "outputs": [
    {
     "name": "stdout",
     "output_type": "stream",
     "text": [
      "0.814345991561\n",
      "0.786516853933\n"
     ]
    }
   ],
   "source": [
    "print model.score(X_train, Y_train)\n",
    "print model.score(X_test, Y_test)"
   ]
  },
  {
   "cell_type": "markdown",
   "metadata": {},
   "source": [
    "Here, the learning model from the training dataset has a good score but performs badly on the testing dataset. This difference in scoring will fluctuate depending on the dataset splits. A more robust methodology is to perform a k-fold cross-validation on the whole dataset."
   ]
  },
  {
   "cell_type": "markdown",
   "metadata": {},
   "source": [
    "***\n",
    "## Evaluating Logistic Regression Model using k-fold Cross Validation"
   ]
  },
  {
   "cell_type": "code",
   "execution_count": 516,
   "metadata": {
    "collapsed": true
   },
   "outputs": [],
   "source": [
    "from sklearn.cross_validation import KFold"
   ]
  },
  {
   "cell_type": "code",
   "execution_count": 533,
   "metadata": {
    "collapsed": false
   },
   "outputs": [],
   "source": [
    "train_scores, test_scores = [], []\n",
    "folds_list = np.arange(2, 31)\n",
    "\n",
    "for n_folds in folds_list:\n",
    "\n",
    "    current_train_scores, current_test_scores = [], []\n",
    "\n",
    "    for train_indexes, test_indexes in KFold(n = X.shape[0], n_folds = n_folds):\n",
    "        X_train, Y_train = X.values[train_indexes], Y.values[train_indexes]\n",
    "        X_test, Y_test = X.values[test_indexes], Y.values[test_indexes]\n",
    "\n",
    "        model = LogisticRegression()\n",
    "        model.fit(X_train, Y_train)\n",
    "        \n",
    "        current_train_scores.append(model.score(X_train, Y_train))\n",
    "        current_test_scores.append(model.score(X_test, Y_test))\n",
    "    \n",
    "    train_scores.append(np.mean(current_train_scores))\n",
    "    test_scores.append(np.mean(current_test_scores))"
   ]
  },
  {
   "cell_type": "code",
   "execution_count": 534,
   "metadata": {
    "collapsed": false
   },
   "outputs": [
    {
     "name": "stdout",
     "output_type": "stream",
     "text": [
      "k = 14 has a score of 0.808780\n"
     ]
    }
   ],
   "source": [
    "# The k that maximizes the average testing score with the corresponding score\n",
    "print \"k = %d has a score of %f\" % (folds_list[np.argmax(test_scores)], np.max(test_scores))"
   ]
  },
  {
   "cell_type": "code",
   "execution_count": 535,
   "metadata": {
    "collapsed": false
   },
   "outputs": [
    {
     "data": {
      "text/plain": [
       "<matplotlib.text.Text at 0x11826d310>"
      ]
     },
     "execution_count": 535,
     "metadata": {},
     "output_type": "execute_result"
    },
    {
     "data": {
      "image/png": "[encoded data removed]",
      "text/plain": [
       "<matplotlib.figure.Figure at 0x1173c9bd0>"
      ]
     },
     "metadata": {},
     "output_type": "display_data"
    }
   ],
   "source": [
    "plt.plot(folds_list, test_scores, 'r-o', alpha = 0.6, label = 'validation dataset')\n",
    "plt.plot(folds_list, train_scores, 'b-o', alpha = 0.6, label = 'training dataset')\n",
    "plt.xlabel('Number of folds ($k$)')\n",
    "plt.ylabel('Scores')\n",
    "plt.legend(loc = 'lower right')\n",
    "plt.title('Evolution of scores depending on the value of $k$')"
   ]
  },
  {
   "cell_type": "markdown",
   "metadata": {},
   "source": [
    "Using k-folds cross-validation degraded the scoring on the training dataset, but improved the testing dataset."
   ]
  },
  {
   "cell_type": "markdown",
   "metadata": {},
   "source": [
    "***\n",
    "## Building k Logistic Regression models"
   ]
  },
  {
   "cell_type": "markdown",
   "metadata": {},
   "source": [
    "The idea is to create _k_ different models (based on different datasets) and perform a voting on the final prediction. Here _k_ is unknown and should be kept to maximize good predictions. We are going to split the data into a test dataset, and a cross-validation dataset to find the ultimate _k_ and the k-models.\n",
    "\n",
    "To do so, let's build a class that have the same syntaxe of any `sklearn` methods."
   ]
  },
  {
   "cell_type": "code",
   "execution_count": 520,
   "metadata": {
    "collapsed": true
   },
   "outputs": [],
   "source": [
    "# The k Logistic Regression models algorithm\n",
    "class KLR(object):\n",
    "    \n",
    "    def __init__(self, min_k = 2, max_k = 30):\n",
    "        self.min_k = min_k\n",
    "        self.max_k = max_k\n",
    "        self.optimum_k = 0\n",
    "        self.models = []\n",
    "        self.train_score = 0\n",
    "    \n",
    "    def fit(self, X, Y):\n",
    "        for k in np.arange(self.min_k, (self.max_k + 1)):\n",
    "            current_scores = []\n",
    "            current_models = []\n",
    "            \n",
    "            for train_indexes, test_indexes in KFold(len(X), n_folds = k):\n",
    "                model = LogisticRegression()\n",
    "                model.fit(X[train_indexes], Y[train_indexes])\n",
    "                current_scores.append( model.score(X[test_indexes], Y[test_indexes]) )\n",
    "                current_models.append( model )\n",
    "                \n",
    "            if np.mean(current_scores) > self.train_score:\n",
    "                self.train_score = np.mean(current_scores)\n",
    "                self.models = current_models\n",
    "                self.optimum_k = k\n",
    "    \n",
    "    def predict(self, X):\n",
    "        predictions = [model.predict(X) for model in self.models]\n",
    "        \n",
    "        sum_predictions = predictions[0]\n",
    "        for i in np.arange(1, len(predictions)):\n",
    "            sum_predictions = sum_predictions + predictions[i]\n",
    "\n",
    "        return (sum_predictions >= (self.optimum_k / 2.)).astype(int)\n",
    "        # This is similar as doing the mean and then approximating by 0 or 1\n",
    "    \n",
    "    def score(self, X, Y):\n",
    "        return np.mean([model.score(X, Y) for model in self.models])"
   ]
  },
  {
   "cell_type": "code",
   "execution_count": 521,
   "metadata": {
    "collapsed": true
   },
   "outputs": [],
   "source": [
    "X_train, X_test, Y_train, Y_test = train_test_split(X, Y, train_size = 0.7)"
   ]
  },
  {
   "cell_type": "code",
   "execution_count": 522,
   "metadata": {
    "collapsed": false
   },
   "outputs": [],
   "source": [
    "klr = KLR()"
   ]
  },
  {
   "cell_type": "code",
   "execution_count": 523,
   "metadata": {
    "collapsed": false
   },
   "outputs": [],
   "source": [
    "klr.fit(X_train.values, Y_train.values)"
   ]
  },
  {
   "cell_type": "code",
   "execution_count": 524,
   "metadata": {
    "collapsed": false
   },
   "outputs": [
    {
     "data": {
      "text/plain": [
       "19"
      ]
     },
     "execution_count": 524,
     "metadata": {},
     "output_type": "execute_result"
    }
   ],
   "source": [
    "# How many different Logistic Regressions got the best mean score on validation test\n",
    "klr.optimum_k"
   ]
  },
  {
   "cell_type": "code",
   "execution_count": 525,
   "metadata": {
    "collapsed": false
   },
   "outputs": [
    {
     "data": {
      "text/plain": [
       "0.81180223285486441"
      ]
     },
     "execution_count": 525,
     "metadata": {},
     "output_type": "execute_result"
    }
   ],
   "source": [
    "klr.train_score"
   ]
  },
  {
   "cell_type": "code",
   "execution_count": 526,
   "metadata": {
    "collapsed": false
   },
   "outputs": [
    {
     "name": "stdout",
     "output_type": "stream",
     "text": [
      "[0 1 0 0 0 0 0 0 0 0 0 1 1 1 0 0 0 0 0 0]\n",
      "[1 1 0 0 0 1 1 0 0 0 0 1 1 0 1 1 0 0 0 0]\n"
     ]
    }
   ],
   "source": [
    "# First 20 predictions vs real values (0: died, 1: survived)\n",
    "print klr.predict(X_test.values)[:20]\n",
    "print Y_test.values[:20]"
   ]
  },
  {
   "cell_type": "code",
   "execution_count": 527,
   "metadata": {
    "collapsed": false
   },
   "outputs": [
    {
     "data": {
      "text/plain": [
       "0.81214271634141533"
      ]
     },
     "execution_count": 527,
     "metadata": {},
     "output_type": "execute_result"
    }
   ],
   "source": [
    "klr.score(X_test.values, Y_test.values)"
   ]
  },
  {
   "cell_type": "markdown",
   "metadata": {},
   "source": [
    "If you run several times the previous scripts, you will see that the final score fluctuates a lot depending on how the data in split between training dataset and testing dataset. The following script will perform the previous scripts many times to have a mean of the learning model score."
   ]
  },
  {
   "cell_type": "code",
   "execution_count": 528,
   "metadata": {
    "collapsed": false
   },
   "outputs": [
    {
     "name": "stdout",
     "output_type": "stream",
     "text": [
      "Average methodology score: 0.810255\n"
     ]
    }
   ],
   "source": [
    "scores = []\n",
    "\n",
    "for i in range(20): # We will run the KLR n-times to have an average score of the methodology\n",
    "    X_train, X_test, Y_train, Y_test = train_test_split(X, Y, train_size = 0.7)\n",
    "    \n",
    "    klr = KLR()\n",
    "    klr.fit(X_train.values, Y_train.values)\n",
    "    scores.append(klr.score(X_test.values, Y_test.values))\n",
    "\n",
    "print \"Average methodology score: %f\" % np.mean(scores)"
   ]
  },
  {
   "cell_type": "markdown",
   "metadata": {},
   "source": [
    "***\n",
    "## Conclusion"
   ]
  },
  {
   "cell_type": "markdown",
   "metadata": {},
   "source": [
    "In this chapter, we tried to predict the passengers survival using Logistic Regression learning model.\n",
    "\n",
    "We performed quite good approximations with this methodology especially using cross validation. We also tried a more complexe variation of LR by building many LR models and averaging results, but this increase in complexity didn't lead to better predictions.\n",
    "\n",
    "In the next chapters, we will try more complex learning algorithms. But as we learned in this chapter, more complex doesn't mean better!"
   ]
  }
 ],
 "metadata": {
  "kernelspec": {
   "display_name": "Python 2",
   "language": "python",
   "name": "python2"
  },
  "language_info": {
   "codemirror_mode": {
    "name": "ipython",
    "version": 2
   },
   "file_extension": ".py",
   "mimetype": "text/x-python",
   "name": "python",
   "nbconvert_exporter": "python",
   "pygments_lexer": "ipython2",
   "version": "2.7.11"
  }
 },
 "nbformat": 4,
 "nbformat_minor": 0
}
